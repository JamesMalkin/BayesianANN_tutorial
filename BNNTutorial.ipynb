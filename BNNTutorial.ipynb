{
  "nbformat": 4,
  "nbformat_minor": 0,
  "metadata": {
    "colab": {
      "provenance": [],
      "mount_file_id": "1of_z8vgq1HMHOp36cmM0YSi84KTkhQ8t",
      "authorship_tag": "ABX9TyN9Dne/VNYrYyeq4Yuif7rj",
      "include_colab_link": true
    },
    "kernelspec": {
      "name": "python3",
      "display_name": "Python 3"
    },
    "language_info": {
      "name": "python"
    }
  },
  "cells": [
    {
      "cell_type": "markdown",
      "metadata": {
        "id": "view-in-github",
        "colab_type": "text"
      },
      "source": [
        "<a href=\"https://colab.research.google.com/github/JamesMalkin/BayesianANN_tutorial/blob/main/BNNTutorial.ipynb\" target=\"_parent\"><img src=\"https://colab.research.google.com/assets/colab-badge.svg\" alt=\"Open In Colab\"/></a>"
      ]
    },
    {
      "cell_type": "markdown",
      "source": [
        "# Synapse noise\n"
      ],
      "metadata": {
        "id": "1OK0Vip2vHRW"
      }
    },
    {
      "cell_type": "markdown",
      "source": [
        "Neurons communicate primarily through chemical synapses, and that communication is critical for proper brain function. However, chemical synaptic transmission appears unreliable:\n",
        "\n",
        "For most synapses, when an action potential arrives at an axon terminal, about half the time, no neurotransmitter is released and so no communication happens.\n",
        "Furthermore, when neurotransmitter is released at an individual synaptic release site, the size of the local postsynaptic membrane conductance change is also variable."
      ],
      "metadata": {
        "id": "02b6zdYIDUG1"
      }
    },
    {
      "cell_type": "code",
      "source": [
        "from IPython.display import Image\n",
        "Image(url=\"https://drive.google.com/file/d/1-4cPlKv-AzIvFx-3ylDVaNg5a0dkxSiO/view?usp=sharing\", width=300, height=300)"
      ],
      "metadata": {
        "colab": {
          "base_uri": "https://localhost:8080/",
          "height": 321
        },
        "id": "SKXqxNxE4o35",
        "outputId": "5507d58b-07e3-4972-e0d9-e12da914c077"
      },
      "execution_count": 18,
      "outputs": [
        {
          "output_type": "execute_result",
          "data": {
            "text/html": [
              "<img src=\"./figures/noisy_synapse" width=\"300\" height=\"300\"/>"
            ],
            "text/plain": [
              "<IPython.core.display.Image object>"
            ]
          },
          "metadata": {},
          "execution_count": 18
        }
      ]
    },
    {
      "cell_type": "markdown",
      "source": [
        "# New section"
      ],
      "metadata": {
        "id": "SayqnxY2zZnL"
      }
    },
    {
      "cell_type": "markdown",
      "source": [],
      "metadata": {
        "id": "e8mP78uAuxE6"
      }
    },
    {
      "cell_type": "markdown",
      "source": [
        "# Probabilistic synapses- Bug or feature?"
      ],
      "metadata": {
        "id": "ks5-vUiIu1Ft"
      }
    }
  ]
}
